{
 "cells": [
  {
   "cell_type": "markdown",
   "metadata": {},
   "source": [
    "<img src=\"https://bit.ly/2VnXWr2\" width=\"100\" align=\"left\">"
   ]
  },
  {
   "cell_type": "markdown",
   "metadata": {},
   "source": [
    "# Temperature Sensor\n",
    "\n",
    "There is a temperature sensor in the processor of your company's server. The company wants to analyze the data provided by the sensor to decide if they should change the cooling system for a better one. As changing the cooling system is expensive and you are an excellent data analyst, you can't make a decision without basis.\n",
    "\n",
    "## Tools\n",
    "You don't necessarily need to use all the tools. Maybe you opt to use some of them or completely different ones, they are given to help you shape the exercise. Programming exercises can be solved in many different ways.\n",
    "1. Data structures: **lists**\n",
    "2. Loops: **list comprehension**\n",
    "3. Functions: **min, max, print, len**\n",
    "4. Conditional statements: **if-elif-else**\n",
    "\n",
    "## Tasks\n",
    "The temperatures measured throughout the 24 hours of a day are:"
   ]
  },
  {
   "cell_type": "code",
   "execution_count": 1,
   "metadata": {},
   "outputs": [],
   "source": [
    "temperatures_C = [33, 66, 65, 0, 59, 60, 62, 64, 70, 76, 80, 81, 80, 83, 90, 79, 61, 53, 50, 49, 53, 48, 45, 39]"
   ]
  },
  {
   "cell_type": "markdown",
   "metadata": {},
   "source": [
    "The first element of the list is the temperature at 12am, the second element is the temperature at 1am, and so on. \n",
    "\n",
    "The company has decided that if one of the following events occurs, then the cooling system needs to be replaced for a new one to avoid damaging the processor.\n",
    "* More than 4 temperatures are greater than or equal to 70ºC.\n",
    "* Any temperature is above 80ºC.\n",
    "* The average temperature exceeds 65ºC.\n",
    "\n",
    "Follow the steps so that you can make the decision.\n",
    "\n",
    "#### 1. Find the minimum temperature of the day and store it in a variable."
   ]
  },
  {
   "cell_type": "code",
   "execution_count": 2,
   "metadata": {},
   "outputs": [
    {
     "name": "stdout",
     "output_type": "stream",
     "text": [
      "Minimum temperature :  0 °C\n"
     ]
    }
   ],
   "source": [
    "min_temp = min(temperatures_C)\n",
    "\n",
    "print(\"Minimum temperature : \", min_temp, \"°C\")"
   ]
  },
  {
   "cell_type": "markdown",
   "metadata": {},
   "source": [
    "#### 2. Find the maximum temperature of the day and store it in a variable."
   ]
  },
  {
   "cell_type": "code",
   "execution_count": 3,
   "metadata": {},
   "outputs": [
    {
     "name": "stdout",
     "output_type": "stream",
     "text": [
      "Maximum temperature :  90 °C\n"
     ]
    }
   ],
   "source": [
    "max_temp = max(temperatures_C)\n",
    "\n",
    "print(\"Maximum temperature : \", max_temp, \"°C\")"
   ]
  },
  {
   "cell_type": "markdown",
   "metadata": {},
   "source": [
    "#### 3. Create a list with the temperatures that are greater than or equal to 70ºC. Store it in a variable."
   ]
  },
  {
   "cell_type": "code",
   "execution_count": 4,
   "metadata": {},
   "outputs": [
    {
     "name": "stdout",
     "output_type": "stream",
     "text": [
      "Temperatures of 70°C and above :  [70, 76, 80, 81, 80, 83, 90, 79]\n"
     ]
    }
   ],
   "source": [
    "high_temp=[]\n",
    "\n",
    "for temp in temperatures_C:\n",
    "    if temp >= 70:\n",
    "        high_temp.append(temp)\n",
    "        \n",
    "print(\"Temperatures of 70°C and above : \", high_temp)"
   ]
  },
  {
   "cell_type": "markdown",
   "metadata": {},
   "source": [
    "#### 4. Find the average temperature of the day and store it in a variable."
   ]
  },
  {
   "cell_type": "code",
   "execution_count": 5,
   "metadata": {},
   "outputs": [
    {
     "name": "stdout",
     "output_type": "stream",
     "text": [
      "Average temperature : 60.25 °C\n"
     ]
    }
   ],
   "source": [
    "avg_temp = sum(temperatures_C)/len(temperatures_C)\n",
    "\n",
    "print(\"Average temperature :\", avg_temp, \"°C\")"
   ]
  },
  {
   "cell_type": "markdown",
   "metadata": {},
   "source": [
    "#### 5. Imagine that there was a sensor failure at 3am and the data for that specific hour was not recorded. How would you estimate the missing value? Replace the current value of the list at 3am for an estimation. "
   ]
  },
  {
   "cell_type": "code",
   "execution_count": 6,
   "metadata": {},
   "outputs": [
    {
     "name": "stdout",
     "output_type": "stream",
     "text": [
      "Estimated temperature at 3am : 62.0\n"
     ]
    }
   ],
   "source": [
    "# Temperature at 3am is estimated by taking the average of the temperatures at 2am and 4am\n",
    "temperatures_C[3] = (temperatures_C[2] + temperatures_C[4]) / 2\n",
    "\n",
    "print(\"Estimated temperature at 3am :\", temperatures_C[3])"
   ]
  },
  {
   "cell_type": "markdown",
   "metadata": {},
   "source": [
    "#### 6. Bonus: the maintenance staff is from the United States and does not understand the international metric system. Help them by converting the temperatures from Celsius to Fahrenheit.\n",
    "To know more about temperature conversion check this [link](https://en.wikipedia.org/wiki/Conversion_of_units_of_temperature).\n",
    "\n",
    "**Formula**: \n",
    "\n",
    "$F = 1.8 * C + 32$"
   ]
  },
  {
   "cell_type": "code",
   "execution_count": 7,
   "metadata": {},
   "outputs": [
    {
     "name": "stdout",
     "output_type": "stream",
     "text": [
      "Temperatures in °F : [91.4, 150.8, 149.0, 143.60000000000002, 138.2, 140.0, 143.60000000000002, 147.2, 158.0, 168.8, 176.0, 177.8, 176.0, 181.4, 194.0, 174.20000000000002, 141.8, 127.4, 122.0, 120.2, 127.4, 118.4, 113.0, 102.2]\n"
     ]
    }
   ],
   "source": [
    "temperatures_F = [1.8 * i + 32 for i in temperatures_C]\n",
    "\n",
    "print(\"Temperatures in °F :\", temperatures_F)"
   ]
  },
  {
   "cell_type": "markdown",
   "metadata": {},
   "source": [
    "#### 7. Make a decision!\n",
    "Now it's time to make a decision taking into account what you have seen until now. \n",
    "\n",
    "Remember that if one of the following events occurs, then the cooling system needs to be replaced for a new one to avoid damaging the processor.\n",
    "* More than 4 temperatures are greater than or equal to 70ºC.\n",
    "* Any temperature is above 80ºC.\n",
    "* The average temperature exceeds 65ºC.\n",
    "\n",
    "#### To make your decision, check if any of the three conditions above is met. You might need to use some of the variables you created in steps 1 to 6. Print a message to show if the cooling system needs to be changed or not."
   ]
  },
  {
   "cell_type": "code",
   "execution_count": 8,
   "metadata": {},
   "outputs": [
    {
     "name": "stdout",
     "output_type": "stream",
     "text": [
      "Cooling system needs to be changed !\n"
     ]
    }
   ],
   "source": [
    "if max_temp > 80 or avg_temp > 65 or len(high_temp) > 4:\n",
    "    print(\"Cooling system needs to be changed !\")\n",
    "else:\n",
    "    print(\"Cooling system performs well. No need to change it.\")"
   ]
  },
  {
   "cell_type": "markdown",
   "metadata": {},
   "source": [
    "## Bonus\n",
    "\n",
    "The company has decided that the decision you made is not valid. They want you to analyze the data again but this time, the conditions that need to be met in order to change the cooling system are different.\n",
    "\n",
    "This time, if one of the following events occurs, then the cooling system needs to be replaced:\n",
    "* The temperature is greater than 70ºC during more than 4 consecutive hours.\n",
    "* Any temperature is above 80ºC.\n",
    "* The average temperature exceeds 65ºC.\n",
    "\n",
    "Follow the steps so that you can make the decision.\n",
    "\n",
    "#### 1. Create a list with the hours where the temperature is greater than 70ºC. Store it in a variable."
   ]
  },
  {
   "cell_type": "code",
   "execution_count": 9,
   "metadata": {},
   "outputs": [
    {
     "name": "stdout",
     "output_type": "stream",
     "text": [
      "Hours when temperature is 70°C or above :  [8, 9, 10, 11, 12, 13, 14, 15]\n"
     ]
    }
   ],
   "source": [
    "high_temp_hours=[]\n",
    "\n",
    "for i in range(0, len(temperatures_C)):\n",
    "    if temperatures_C[i] >= 70:\n",
    "        high_temp_hours.append(i)\n",
    "        \n",
    "print(\"Hours when temperature is 70°C or above : \", high_temp_hours)"
   ]
  },
  {
   "cell_type": "markdown",
   "metadata": {},
   "source": [
    "#### 2. Check if the list you created in step 1 has more than 4 consecutive hours. "
   ]
  },
  {
   "cell_type": "code",
   "execution_count": 10,
   "metadata": {},
   "outputs": [
    {
     "name": "stdout",
     "output_type": "stream",
     "text": [
      "Maximum consecutive hours when temperature is 70°C or above :  8\n"
     ]
    }
   ],
   "source": [
    "consecutive_hours = [1]\n",
    "\n",
    "for i in range(1, len(high_temp_hours)):\n",
    "    if (high_temp_hours[i] - high_temp_hours[i-1]) == 1:\n",
    "        consecutive_hours.append(consecutive_hours[i-1] + 1)\n",
    "    else:\n",
    "        consecutive_hours.append(1)\n",
    "            \n",
    "max_consecutive_hours = max(consecutive_hours)\n",
    "\n",
    "print(\"Maximum consecutive hours when temperature is 70°C or above : \", max_consecutive_hours)"
   ]
  },
  {
   "cell_type": "markdown",
   "metadata": {},
   "source": [
    "#### 3. Make the decision!\n",
    "To make your decision, check if any of the three conditions is met. Print a message to show if the cooling system needs to be changed or not."
   ]
  },
  {
   "cell_type": "code",
   "execution_count": 11,
   "metadata": {},
   "outputs": [
    {
     "name": "stdout",
     "output_type": "stream",
     "text": [
      "Cooling system needs to be changed !\n"
     ]
    }
   ],
   "source": [
    "if max_temp > 80 or avg_temp > 65 or max_consecutive_hours > 4:\n",
    "    print(\"Cooling system needs to be changed !\")\n",
    "else:\n",
    "    print(\"Cooling system performs well. No need to change it.\")"
   ]
  },
  {
   "cell_type": "markdown",
   "metadata": {},
   "source": [
    "#### 4. Find the average value of the temperature lists (ºC and ºF). What is the relation between both average values?"
   ]
  },
  {
   "cell_type": "code",
   "execution_count": 12,
   "metadata": {},
   "outputs": [
    {
     "name": "stdout",
     "output_type": "stream",
     "text": [
      "Average temperature is  62.833333333333336 °C, or  145.1 °F.\n"
     ]
    }
   ],
   "source": [
    "avg_temp_C = sum(temperatures_C)/len(temperatures_C) \n",
    "avg_temp_F = sum(temperatures_F)/len(temperatures_F)\n",
    "\n",
    "print(\"Average temperature is \", avg_temp_C, \"°C, or \", avg_temp_F, \"°F.\")\n",
    "\n",
    "# the average temperature is the same in both cases, just using a different unit.\n",
    "# the relation between both temperatures is : avg_temp_F = avg_temp_C * 1.8 + 32"
   ]
  },
  {
   "cell_type": "markdown",
   "metadata": {},
   "source": [
    "#### 5. Find the standard deviation of the temperature lists (ºC and ºF). What is the relation between both standard deviations?"
   ]
  },
  {
   "cell_type": "code",
   "execution_count": 13,
   "metadata": {},
   "outputs": [
    {
     "name": "stdout",
     "output_type": "stream",
     "text": [
      "Standard deviation of temperatures is  11.902777777777777 °C, or  21.424999999999997 °F\n"
     ]
    }
   ],
   "source": [
    "stdev_temp_C = sum([abs(temp - avg_temp_C) for temp in temperatures_C]) / len(temperatures_C)\n",
    "stdev_temp_F = sum([abs(temp - avg_temp_F) for temp in temperatures_F]) / len(temperatures_F)\n",
    "\n",
    "print(\"Standard deviation of temperatures is \", stdev_temp_C, \"°C, or \", stdev_temp_F, \"°F\")\n",
    "\n",
    "# the standard deviation mesures the difference between every value of the set and the average value of the set.\n",
    "# the added \"32\" to convert °C to °F has no incidence because values and average are both 32 points higher\n",
    "# (value - average is the same as (value + 32) - (average + 32))\n",
    "# the relation between both standard deviations is stdev_temp_F = stdev_temp_C * 1.8"
   ]
  },
  {
   "cell_type": "code",
   "execution_count": null,
   "metadata": {},
   "outputs": [],
   "source": []
  }
 ],
 "metadata": {
  "kernelspec": {
   "display_name": "Python 3",
   "language": "python",
   "name": "python3"
  },
  "language_info": {
   "codemirror_mode": {
    "name": "ipython",
    "version": 3
   },
   "file_extension": ".py",
   "mimetype": "text/x-python",
   "name": "python",
   "nbconvert_exporter": "python",
   "pygments_lexer": "ipython3",
   "version": "3.7.4"
  }
 },
 "nbformat": 4,
 "nbformat_minor": 2
}
