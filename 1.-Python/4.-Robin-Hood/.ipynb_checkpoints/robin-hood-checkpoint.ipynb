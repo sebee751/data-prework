{
 "cells": [
  {
   "cell_type": "markdown",
   "metadata": {},
   "source": [
    "<img src=\"https://bit.ly/2VnXWr2\" width=\"100\" align=\"left\"/>"
   ]
  },
  {
   "cell_type": "markdown",
   "metadata": {},
   "source": [
    "# Robin Hood\n",
    "Robin Hood has entered a competition to win the archery contest in Sherwood. With his bow and arrows, he needs to shoot on a target and try to hit as close as possible to the center.\n",
    "\n",
    "![](images/arrows.jpg)\n",
    "\n",
    "## Context\n",
    "In this challenge, the landing position of arrows shot by archers in the competition will be represented using 2-dimensional coordinates. \n",
    "\n",
    "In the 2-dimensional space, a point can be defined by a pair of values that correspond to the horizontal coordinate (x) and the vertical coordinate (y). For example, in our case, an arrow that hits the center of the archery target will land in position (0, 0) on the coordinate axes. \n",
    "\n",
    "The space can be divided into 4 zones (quadrants): Q1, Q2, Q3, Q4. If a point is in Q1, both its x coordinate and y coordinate are positive. Any point with a null x or y coordinate is considered to not belong to any quadrant. \n",
    "\n",
    "If you want to know more about the cartesian coordinate system, you can check this [link](https://en.wikipedia.org/wiki/Cartesian_coordinate_system). \n",
    "\n",
    "## Tools\n",
    "You don't necessarily need to use all the tools. Maybe you opt to use some of them or completely different ones, they are given to help you shape the exercise. Programming exercises can be solved in many different ways.\n",
    "* Data structures: **lists, sets, tuples**\n",
    "* Conditional statements: **if-elif-else**\n",
    "* Loop: **while/for**\n",
    "* Minimum (optional sorting)\n",
    "\n",
    "## Tasks\n",
    "Robin Hood has hit the following points:"
   ]
  },
  {
   "cell_type": "code",
   "execution_count": 2,
   "metadata": {},
   "outputs": [],
   "source": [
    "points = [(4, 5), (-0, 2), (4, 7), (1, -3), (3, -2), (4, 5), (3, 2), (5, 7), (-5, 7), (2, 2), (-4, 5), (0, -2),\n",
    "          (-4, 7), (-1, 3), (-3, 2), (-4, -5), (-3, 2), (5, 7), (5, 7), (2, 2), (9, 9), (-8, -9)]"
   ]
  },
  {
   "cell_type": "markdown",
   "metadata": {},
   "source": [
    "#### 1. Robin Hood is famous for hitting an arrow with another arrow. Find the coordinates of the points where an arrow hits another arrow."
   ]
  },
  {
   "cell_type": "code",
   "execution_count": 5,
   "metadata": {},
   "outputs": [
    {
     "name": "stdout",
     "output_type": "stream",
     "text": [
      "Robin Hood hit another arrows at these coordinates :  [(4, 5), (-3, 2), (5, 7), (5, 7), (2, 2)]\n"
     ]
    }
   ],
   "source": [
    "hit_arrow_points = []\n",
    "\n",
    "for i in range(0, len(points)):\n",
    "    if points[:i].count(points[i]) > 0:\n",
    "        hit_arrow_points.append(points[i])\n",
    "\n",
    "print(\"Robin Hood hit another arrows at these coordinates : \", hit_arrow_points)"
   ]
  },
  {
   "cell_type": "markdown",
   "metadata": {},
   "source": [
    "#### 2. Calculate how many arrows have fallen in each quadrant. \n",
    "**Note**: the arrows that fall in the axis (x=0 or y=0) don't belong to any quadrant."
   ]
  },
  {
   "cell_type": "code",
   "execution_count": 7,
   "metadata": {},
   "outputs": [
    {
     "name": "stdout",
     "output_type": "stream",
     "text": [
      "There are :\n",
      " 10  arrows in the first quadrant\n",
      " 2  arrows in the second quadrant\n",
      " 2  arrows in the third quadrant\n",
      " 6  arrows in the fourth quadrant\n"
     ]
    }
   ],
   "source": [
    "quadrantI = 0\n",
    "quadrantII = 0\n",
    "quadrantIII = 0\n",
    "quadrantIV = 0\n",
    "\n",
    "for coordinates in points:\n",
    "    if coordinates[0] > 0 and coordinates[1] > 0:\n",
    "        quadrantI += 1\n",
    "    if coordinates[0] > 0 and coordinates[1] < 0:\n",
    "        quadrantII += 1\n",
    "    if coordinates[0] < 0 and coordinates[1] < 0:\n",
    "        quadrantIII += 1\n",
    "    if coordinates[0] < 0 and coordinates[1] > 0:\n",
    "        quadrantIV += 1\n",
    "        \n",
    "print(\"There are :\\n\", \\\n",
    "      quadrantI, \" arrows in the first quadrant\\n\", \\\n",
    "      quadrantII, \" arrows in the second quadrant\\n\", \\\n",
    "      quadrantIII, \" arrows in the third quadrant\\n\", \\\n",
    "      quadrantIV, \" arrows in the fourth quadrant\")"
   ]
  },
  {
   "cell_type": "markdown",
   "metadata": {},
   "source": [
    "#### 3. Find the point closest to the center. Calculate its distance to the center. \n",
    "Take into account that there might be more than one point at the minimum distance to the center.\n",
    "\n",
    "**Hint**: Use the Euclidean distance. You can find more information about it [here](https://en.wikipedia.org/wiki/Euclidean_distance).  \n",
    "**Hint**: Defining a function that calculates the distance to the center can help."
   ]
  },
  {
   "cell_type": "code",
   "execution_count": 22,
   "metadata": {},
   "outputs": [
    {
     "name": "stdout",
     "output_type": "stream",
     "text": [
      "The closest distance to the center is  2.0 , with the following point(s) :  [(0, 2), (0, -2)]\n"
     ]
    }
   ],
   "source": [
    "def distance_from_center(point):\n",
    "    return sum([i**2 for i in point])**(1/2)\n",
    "\n",
    "closest_to_center = []\n",
    "closest_distance = 100 #distance_from_center(points[0])\n",
    "\n",
    "for point in points:\n",
    "    distance_point = distance_from_center(point)\n",
    "    if distance_point < closest_distance:\n",
    "        closest_to_center.clear()\n",
    "        closest_distance = distance_point\n",
    "    if distance_from_center(point) == closest_distance:\n",
    "        closest_to_center.append(point)\n",
    "\n",
    "print(\"The closest distance to the center is \", closest_distance, \\\n",
    "      \", with the following point(s) : \", closest_to_center)"
   ]
  },
  {
   "cell_type": "markdown",
   "metadata": {},
   "source": [
    "#### 4. If the archery target has a radius of 9, calculate the number of arrows that won't hit the target. \n",
    "**Hint**: Use the function created in step 3. "
   ]
  },
  {
   "cell_type": "code",
   "execution_count": 18,
   "metadata": {},
   "outputs": [
    {
     "name": "stdout",
     "output_type": "stream",
     "text": [
      "2  arrows won't hit the target.\n"
     ]
    }
   ],
   "source": [
    "n_arrows_target = sum([distance_from_center(i) > 9 for i in points])\n",
    "\n",
    "print(n_arrows_target, \" arrows won't hit the target.\")"
   ]
  },
  {
   "cell_type": "code",
   "execution_count": null,
   "metadata": {},
   "outputs": [],
   "source": []
  }
 ],
 "metadata": {
  "kernelspec": {
   "display_name": "Python 3",
   "language": "python",
   "name": "python3"
  },
  "language_info": {
   "codemirror_mode": {
    "name": "ipython",
    "version": 3
   },
   "file_extension": ".py",
   "mimetype": "text/x-python",
   "name": "python",
   "nbconvert_exporter": "python",
   "pygments_lexer": "ipython3",
   "version": "3.7.4"
  }
 },
 "nbformat": 4,
 "nbformat_minor": 2
}
