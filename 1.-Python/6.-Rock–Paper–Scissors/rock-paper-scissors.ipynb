{
 "cells": [
  {
   "cell_type": "markdown",
   "metadata": {},
   "source": [
    "<img src=\"https://bit.ly/2VnXWr2\" width=\"100\" align=\"left\">"
   ]
  },
  {
   "cell_type": "markdown",
   "metadata": {},
   "source": [
    "# Rock, Paper & Scissors\n",
    "\n",
    "Let's play the famous game against our computer. You can check the rules [here](https://en.wikipedia.org/wiki/Rock%E2%80%93paper%E2%80%93scissors). \n",
    "\n",
    "## Task\n",
    "Create a program that imitates the playability of the well known game of rock, paper, scissors. Follow the guidelines provided.\n",
    "\n",
    "## Tools\n",
    "1. Loop: **for/while**\n",
    "2. Functions: **input(), print()...**\n",
    "3. Conditional statements: **if, elif, else**\n",
    "4. Definition of functions. Modular programming\n",
    "5. Import modules\n",
    "\n",
    "**To solve this challenge, the use of functions is recommended.**\n",
    "\n",
    "#### 1. Import the choice function of the random module."
   ]
  },
  {
   "cell_type": "code",
   "execution_count": 1,
   "metadata": {},
   "outputs": [],
   "source": [
    "from random import choice"
   ]
  },
  {
   "cell_type": "markdown",
   "metadata": {},
   "source": [
    "#### 2. Create a list that includes the 3 possible gesture options of the game: 'rock', 'paper' or 'scissors'. Store the list in a variable called `gestures`."
   ]
  },
  {
   "cell_type": "code",
   "execution_count": 2,
   "metadata": {},
   "outputs": [],
   "source": [
    "# gestures have to be entered in a specific order such as : gesture 0 < gesture 1 < ... < gesture n < gesture 0\n",
    "gestures = ['rock', 'paper', 'scissors']"
   ]
  },
  {
   "cell_type": "markdown",
   "metadata": {},
   "source": [
    "#### 3. Create a variable called `n_rounds` to store the maximum number of rounds to play in a game. \n",
    "Remember that the number of rounds must be odd: 1, 3, 5, ..."
   ]
  },
  {
   "cell_type": "code",
   "execution_count": 3,
   "metadata": {},
   "outputs": [],
   "source": [
    "n_rounds = 7"
   ]
  },
  {
   "cell_type": "markdown",
   "metadata": {},
   "source": [
    "#### 4. Create a variable called `rounds_to_win` to store the number of rounds that a player must win to win the game.\n",
    "**Hint**: the value stored in `rounds_to_win` depends on the value of `n_rounds`. "
   ]
  },
  {
   "cell_type": "code",
   "execution_count": 4,
   "metadata": {},
   "outputs": [],
   "source": [
    "rounds_to_win = int(n_rounds / 2) + 1\n",
    "# This should be recalculated elsewhere as the number of ties during the game can change this value.\n",
    "# The formula is (with n_tie being number of ties) : int((n_rounds - n_tie) / 2) + 1"
   ]
  },
  {
   "cell_type": "markdown",
   "metadata": {},
   "source": [
    "#### 5. Create two variables to store the number of rounds that the computer and the player have won. Call these variables `cpu_score` and `player_score`."
   ]
  },
  {
   "cell_type": "code",
   "execution_count": 5,
   "metadata": {},
   "outputs": [],
   "source": [
    "cpu_score = 0\n",
    "player_score = 0"
   ]
  },
  {
   "cell_type": "markdown",
   "metadata": {},
   "source": [
    "#### 6. Define a function that randomly returns one of the 3 gesture options.\n",
    "You will use this function to simulate the gesture choice of the computer. "
   ]
  },
  {
   "cell_type": "code",
   "execution_count": 6,
   "metadata": {},
   "outputs": [],
   "source": [
    "def ask_cpu_gesture():\n",
    "    return choice(gestures)"
   ]
  },
  {
   "cell_type": "markdown",
   "metadata": {},
   "source": [
    "#### 7. Define a function that asks the player which is the gesture he or she wants to show: 'rock', 'paper' or 'scissors'.\n",
    "The player should only be allowed to choose one of the 3 gesture options. If the player's choice is not rock, paper or scissors, keep asking until it is."
   ]
  },
  {
   "cell_type": "code",
   "execution_count": 7,
   "metadata": {},
   "outputs": [],
   "source": [
    "def ask_player_gesture():\n",
    "    player_gesture = ''\n",
    "    while player_gesture not in gestures:\n",
    "        player_gesture = input(\"Choose your weapon... rock, paper or scissors ? \")\n",
    "        player_gesture = player_gesture.lower()\n",
    "    return player_gesture"
   ]
  },
  {
   "cell_type": "markdown",
   "metadata": {},
   "source": [
    "#### 8. Define a function that checks who won a round. \n",
    "The function should return 0 if there is a tie, 1 if the computer wins and 2 if the player wins."
   ]
  },
  {
   "cell_type": "code",
   "execution_count": 8,
   "metadata": {},
   "outputs": [],
   "source": [
    "def calculate_round_result(cpu_gesture, player_gesture):\n",
    "    cpu_gest_index = gestures.index(cpu_gesture)\n",
    "    player_gest_index = gestures.index(player_gesture)\n",
    "    if cpu_gest_index == player_gest_index:\n",
    "        return 0\n",
    "    # the gestures are entered in a way that :\n",
    "    # when the difference between the indexes of the two elements in the list is odd, the greater one wins\n",
    "    # when the difference between the indexes of the two elements in the list is even, the smaller one wins\n",
    "    elif ((cpu_gest_index > player_gest_index) and (abs(cpu_gest_index - player_gest_index)%2 == 1)) \\\n",
    "    or ((cpu_gest_index < player_gest_index) and (abs(cpu_gest_index - player_gest_index)%2 == 0)):\n",
    "        return 1\n",
    "    else:\n",
    "        return 2"
   ]
  },
  {
   "cell_type": "markdown",
   "metadata": {},
   "source": [
    "#### 9. Define a function that prints the choice of the computer, the choice of the player and a message that announces who won the current round. \n",
    "You should also use this function to update the variables that count the number of rounds that the computer and the player have won. The score of the winner increases by one point. If there is a tie, the score does not increase."
   ]
  },
  {
   "cell_type": "code",
   "execution_count": 9,
   "metadata": {},
   "outputs": [],
   "source": [
    "def print_round_result(cpu_gesture, player_gesture):\n",
    "    global cpu_score, player_score\n",
    "    round_result = calculate_round_result(cpu_gesture, player_gesture)\n",
    "    if round_result == 0:\n",
    "        print(cpu_gesture, \" and \", player_gesture, \"are the same. This is a tie !\")\n",
    "    elif round_result == 1:\n",
    "        print(cpu_gesture, \" beats \", player_gesture, \". Computer wins !\")\n",
    "        cpu_score += 1\n",
    "    elif round_result == 2:\n",
    "        print(player_gesture, \" beats \", cpu_gesture, \". You win !\")\n",
    "        player_score += 1\n",
    "    else:\n",
    "        print(\"There might be a problem somewhere... I don't know who won.\")"
   ]
  },
  {
   "cell_type": "markdown",
   "metadata": {},
   "source": [
    "#### 10. Now it's time to code the execution of the game using the functions and variables you defined above. \n",
    "\n",
    "First, create a loop structure that repeats while no player reaches the minimum score necessary to win and the number of rounds is less than the maximum number of rounds to play in a game.  \n",
    "\n",
    "Inside the loop, use the functions and variables above to create the execution of a round: ask for the player's choice, generate the random choice of the computer, show the round results, update the scores, etc. "
   ]
  },
  {
   "cell_type": "code",
   "execution_count": 10,
   "metadata": {},
   "outputs": [
    {
     "name": "stdout",
     "output_type": "stream",
     "text": [
      "Choose your weapon... rock, paper or scissors ? rock\n",
      "rock  and  rock are the same. This is a tie !\n",
      "Choose your weapon... rock, paper or scissors ? gun\n",
      "Choose your weapon... rock, paper or scissors ? paper\n",
      "scissors  beats  paper . Computer wins !\n",
      "Choose your weapon... rock, paper or scissors ? scissors\n",
      "scissors  and  scissors are the same. This is a tie !\n",
      "Choose your weapon... rock, paper or scissors ? scissors\n",
      "rock  beats  scissors . Computer wins !\n",
      "Choose your weapon... rock, paper or scissors ? scissors\n",
      "scissors  and  scissors are the same. This is a tie !\n",
      "Choose your weapon... rock, paper or scissors ? paper\n",
      "scissors  beats  paper . Computer wins !\n"
     ]
    }
   ],
   "source": [
    "round_number = 1\n",
    "while (round_number <= n_rounds) and (max(cpu_score, player_score) < rounds_to_win):\n",
    "    print_round_result(ask_cpu_gesture(), ask_player_gesture())\n",
    "    # recaclulating number of rounds to win, depending on the number of ties\n",
    "    n_tie = round_number - (cpu_score + player_score)\n",
    "    rounds_to_win = int((n_rounds - n_tie) / 2) + 1\n",
    "    round_number += 1"
   ]
  },
  {
   "cell_type": "markdown",
   "metadata": {},
   "source": [
    "#### 11. Print the winner of the game based on who won more rounds.\n",
    "Remember that the game might be tied. "
   ]
  },
  {
   "cell_type": "code",
   "execution_count": 11,
   "metadata": {},
   "outputs": [
    {
     "name": "stdout",
     "output_type": "stream",
     "text": [
      "Too bad for you... Computer wins ! \n",
      "Your score : 0  victories  3  defeats and 3 ties on a  7 rounds game.\n"
     ]
    }
   ],
   "source": [
    "if cpu_score > player_score:\n",
    "    print(\"Too bad for you... Computer wins ! \\nYour score :\", player_score, \" victories \", \\\n",
    "          cpu_score, \" defeats and\", n_tie, \"ties on a \", n_rounds, \"rounds game.\")\n",
    "elif player_score > cpu_score:\n",
    "    print(\"Congrats ! You win ! \\nYour score :\", player_score, \" victories \", \\\n",
    "          cpu_score, \" defeats and\", n_tie, \"ties on a \", n_rounds, \"rounds game.\")\n",
    "else:\n",
    "    print(\"This is a tie. \\nYour score :\", player_score, \" victories \", \\\n",
    "          cpu_score, \" defeats and\", n_tie, \"ties on a \", n_rounds, \"rounds game.\")"
   ]
  },
  {
   "cell_type": "markdown",
   "metadata": {},
   "source": [
    "# Bonus: Rock, Paper, Scissors, Lizard & Spock\n",
    "![](images/rpsls.jpg)\n",
    "\n",
    "In this challenge, you need to improve the previous game by adding two new options. To know more about the rules of the improved version of rock, paper, scissors, check this [link](http://www.samkass.com/theories/RPSSL.html). \n",
    "\n",
    "In addition, you will also need to improve how the game interacts with the player: the number of rounds to play, which must be an odd number, will be requested to the user until a valid number is entered. Define a new function to make that request.\n",
    "\n",
    "**Hint**: Try to reuse the code that you already coded in the previous challenge. If your code is efficient, this bonus will only consist of simple modifications to the original game."
   ]
  },
  {
   "cell_type": "code",
   "execution_count": 12,
   "metadata": {},
   "outputs": [
    {
     "name": "stdout",
     "output_type": "stream",
     "text": [
      "How many rounds ? (must be an odd number) : 8\n",
      "How many rounds ? (must be an odd number) : 17\n",
      "Choose your weapon... rock, paper, scissors, lizard or spock ? rock\n",
      "paper  beats  rock . Computer wins !\n",
      "Choose your weapon... rock, paper, scissors, lizard or spock ? paper\n",
      "paper  and  paper are the same. This is a tie !\n",
      "Choose your weapon... rock, paper, scissors, lizard or spock ? spock\n",
      "paper  beats  spock . Computer wins !\n",
      "Choose your weapon... rock, paper, scissors, lizard or spock ? lizard\n",
      "scissors  beats  lizard . Computer wins !\n",
      "Choose your weapon... rock, paper, scissors, lizard or spock ? scissors\n",
      "scissors  beats  lizard . You win !\n",
      "Choose your weapon... rock, paper, scissors, lizard or spock ? scissors\n",
      "scissors  and  scissors are the same. This is a tie !\n",
      "Choose your weapon... rock, paper, scissors, lizard or spock ? rock\n",
      "spock  beats  rock . Computer wins !\n",
      "Choose your weapon... rock, paper, scissors, lizard or spock ? spock\n",
      "lizard  beats  spock . Computer wins !\n",
      "Choose your weapon... rock, paper, scissors, lizard or spock ? spock\n",
      "spock  beats  scissors . You win !\n",
      "Choose your weapon... rock, paper, scissors, lizard or spock ? spock\n",
      "spock  beats  rock . You win !\n",
      "Choose your weapon... rock, paper, scissors, lizard or spock ? spock\n",
      "spock  and  spock are the same. This is a tie !\n",
      "Choose your weapon... rock, paper, scissors, lizard or spock ? spock\n",
      "spock  beats  rock . You win !\n",
      "Choose your weapon... rock, paper, scissors, lizard or spock ? spock\n",
      "spock  beats  scissors . You win !\n",
      "Choose your weapon... rock, paper, scissors, lizard or spock ? spock\n",
      "lizard  beats  spock . Computer wins !\n",
      "Choose your weapon... rock, paper, scissors, lizard or spock ? rock\n",
      "rock  and  rock are the same. This is a tie !\n",
      "Choose your weapon... rock, paper, scissors, lizard or spock ? rock\n",
      "paper  beats  rock . Computer wins !\n",
      "Too bad for you... Computer wins ! \n",
      "Your score : 5  victories  7  defeats and 4 ties on a  17 rounds game.\n"
     ]
    }
   ],
   "source": [
    "from random import choice\n",
    "\n",
    "# gestures have to be entered in a specific order such as : gesture 0 < gesture 1 < ... < gesture n < gesture 0\n",
    "gestures = ['rock', 'paper', 'scissors', 'spock', 'lizard'] \n",
    "n_rounds = 0\n",
    "rounds_to_win = int(n_rounds / 2) + 1\n",
    "cpu_score = 0\n",
    "player_score = 0\n",
    "\n",
    "# ask a value for n_rounds while it is not and odd number \n",
    "while n_rounds%2 != 1: \n",
    "    n_rounds = input(\"How many rounds ? (must be an odd number) : \")\n",
    "    # if n_nrounds is not composed ONLY of digits (positive integer) then back to value 0\n",
    "    if n_rounds.isdigit():\n",
    "        n_rounds = int(n_rounds)\n",
    "    else:\n",
    "        n_rounds = 0\n",
    "\n",
    "def ask_cpu_gesture():\n",
    "    return choice(gestures)\n",
    "\n",
    "def ask_player_gesture():\n",
    "    player_gesture = ''\n",
    "    while player_gesture not in gestures:\n",
    "        player_gesture = input(\"Choose your weapon... rock, paper, scissors, lizard or spock ? \")\n",
    "        player_gesture = player_gesture.lower()\n",
    "    return player_gesture\n",
    "\n",
    "def calculate_round_result(cpu_gesture, player_gesture):\n",
    "    cpu_gest_index = gestures.index(cpu_gesture)\n",
    "    player_gest_index = gestures.index(player_gesture)\n",
    "    if cpu_gest_index == player_gest_index:\n",
    "        return 0\n",
    "    # the gestures are entered in a way that :\n",
    "    # when the difference between the indexes of the two elements in the list is odd, the greater one wins\n",
    "    # when the difference between the indexes of the two elements in the list is even, the smaller one wins\n",
    "    elif ((cpu_gest_index > player_gest_index) and (abs(cpu_gest_index - player_gest_index)%2 == 1)) \\\n",
    "    or ((cpu_gest_index < player_gest_index) and (abs(cpu_gest_index - player_gest_index)%2 == 0)):\n",
    "        return 1\n",
    "    else:\n",
    "        return 2\n",
    "    \n",
    "def print_round_result(cpu_gesture, player_gesture):\n",
    "    global cpu_score, player_score\n",
    "    round_result = calculate_round_result(cpu_gesture, player_gesture)\n",
    "    if round_result == 0:\n",
    "        print(cpu_gesture, \" and \", player_gesture, \"are the same. This is a tie !\")\n",
    "    elif round_result == 1:\n",
    "        print(cpu_gesture, \" beats \", player_gesture, \". Computer wins !\")\n",
    "        cpu_score += 1\n",
    "    elif round_result == 2:\n",
    "        print(player_gesture, \" beats \", cpu_gesture, \". You win !\")\n",
    "        player_score += 1\n",
    "    else:\n",
    "        print(\"There might be a problem somewhere... I don't know who won.\")\n",
    "\n",
    "round_number = 1\n",
    "while (round_number <= n_rounds) and (max(cpu_score, player_score) < rounds_to_win):\n",
    "    print_round_result(ask_cpu_gesture(), ask_player_gesture())\n",
    "    # recaclulating number of rounds to win, depending on the number of ties\n",
    "    n_tie = round_number - (cpu_score + player_score)\n",
    "    rounds_to_win = int((n_rounds - n_tie) / 2) + 1\n",
    "    round_number += 1\n",
    "    \n",
    "if cpu_score > player_score:\n",
    "    print(\"Too bad for you... Computer wins ! \\nYour score :\", player_score, \" victories \", \\\n",
    "          cpu_score, \" defeats and\", n_tie, \"ties on a \", n_rounds, \"rounds game.\")\n",
    "elif player_score > cpu_score:\n",
    "    print(\"Congrats ! You win ! \\nYour score :\", player_score, \" victories \", \\\n",
    "          cpu_score, \" defeats and\", n_tie, \"ties on a \", n_rounds, \"rounds game.\")\n",
    "else:\n",
    "    print(\"This is a tie. \\nYour score :\", player_score, \" victories \", \\\n",
    "          cpu_score, \" defeats and\", n_tie, \"ties on a \", n_rounds, \"rounds game.\")"
   ]
  },
  {
   "cell_type": "code",
   "execution_count": null,
   "metadata": {},
   "outputs": [],
   "source": []
  }
 ],
 "metadata": {
  "kernelspec": {
   "display_name": "Python 3",
   "language": "python",
   "name": "python3"
  },
  "language_info": {
   "codemirror_mode": {
    "name": "ipython",
    "version": 3
   },
   "file_extension": ".py",
   "mimetype": "text/x-python",
   "name": "python",
   "nbconvert_exporter": "python",
   "pygments_lexer": "ipython3",
   "version": "3.7.4"
  }
 },
 "nbformat": 4,
 "nbformat_minor": 2
}
